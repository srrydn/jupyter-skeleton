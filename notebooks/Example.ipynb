{
 "cells": [
  {
   "cell_type": "code",
   "execution_count": null,
   "metadata": {},
   "outputs": [],
   "source": [
    "from IPython.core.display import display, HTML\n",
    "display(HTML(\"<style>.container { width:100% !important; } .bottomspace {height:600px}</style>\")) "
   ]
  },
  {
   "cell_type": "code",
   "execution_count": null,
   "metadata": {},
   "outputs": [],
   "source": [
    "import ocd"
   ]
  },
  {
   "cell_type": "code",
   "execution_count": null,
   "metadata": {},
   "outputs": [],
   "source": [
    "ocd.version"
   ]
  },
  {
   "cell_type": "code",
   "execution_count": null,
   "metadata": {},
   "outputs": [],
   "source": [
    "app_config = dict(\n",
    "    LOCAL_DATA_PATH=\"\",\n",
    "    SCRATCH_SPACE_PATH=\"/scratch-space\",\n",
    "    GRAPHQL_CONFIG=dict(\n",
    "        auth=None,\n",
    "        url=\"https://data-services.onai.cloud/api/\",\n",
    "        headers={\n",
    "            \"X-API-Key\": \"1234\",\n",
    "            \"X-Enable-Tracing\": \"true\",\n",
    "            \"X-Stack-Host\": \"\",\n",
    "            \"X-Stack-User\": \"\",\n",
    "            \"X-Request-Id\": \"\",\n",
    "        },\n",
    "        use_json=True,\n",
    "        timeout=None,\n",
    "        cookies=None,\n",
    "    ),\n",
    ")"
   ]
  },
  {
   "cell_type": "code",
   "execution_count": null,
   "metadata": {},
   "outputs": [],
   "source": [
    "ocd.AppConfig(**app_config)"
   ]
  },
  {
   "cell_type": "code",
   "execution_count": null,
   "metadata": {},
   "outputs": [],
   "source": [
    "file_path = \"/mnt/notebooks/data/example_meta_format.xlsx\""
   ]
  },
  {
   "cell_type": "code",
   "execution_count": null,
   "metadata": {},
   "outputs": [],
   "source": []
  }
 ],
 "metadata": {
  "kernelspec": {
   "display_name": "Python 3",
   "language": "python",
   "name": "python3"
  },
  "language_info": {
   "codemirror_mode": {
    "name": "ipython",
    "version": 3
   },
   "file_extension": ".py",
   "mimetype": "text/x-python",
   "name": "python",
   "nbconvert_exporter": "python",
   "pygments_lexer": "ipython3",
   "version": "3.7.6"
  }
 },
 "nbformat": 4,
 "nbformat_minor": 4
}
